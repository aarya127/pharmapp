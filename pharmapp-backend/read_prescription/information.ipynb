{
 "cells": [
  {
   "cell_type": "code",
   "execution_count": null,
   "metadata": {},
   "outputs": [
    {
     "ename": "",
     "evalue": "",
     "output_type": "error",
     "traceback": [
      "\u001b[1;31mJupyter cannot be started. Error attempting to locate Jupyter: Running cells with 'Python 3.9.6' requires the notebook package.\n",
      "\u001b[1;31mRun the following command to install 'jupyter and notebook' into the Python environment. \n",
      "\u001b[1;31mCommand: 'python -m pip install jupyter notebook -U\n",
      "\u001b[1;31mor\n",
      "\u001b[1;31mconda install jupyter notebook -U'\n",
      "\u001b[1;31mClick <a href='https://aka.ms/installJupyterForVSCode'>here</a> for more info."
     ]
    }
   ],
   "source": [
    "pip install pytesseract pillow transformers faiss-cpu"
   ]
  },
  {
   "cell_type": "code",
   "execution_count": null,
   "metadata": {},
   "outputs": [],
   "source": [
    "from PIL import Image\n",
    "import pytesseract\n",
    "from transformers import RagTokenizer, RagRetriever, RagSequenceForGeneration\n",
    "import torch\n",
    "\n",
    "# Load image\n",
    "image_path = '/path/to/your/prescription.png'\n",
    "image = Image.open(image_path)\n",
    "\n",
    "# Extract text with Tesseract\n",
    "extracted_text = pytesseract.image_to_string(image)\n",
    "print(\"Extracted Text:\", extracted_text)\n",
    "\n",
    "# Load RAG model and tokenizer\n",
    "tokenizer = RagTokenizer.from_pretrained(\"facebook/rag-token-nq\")\n",
    "retriever = RagRetriever.from_pretrained(\"facebook/rag-token-nq\", index_name=\"exact\", passages=[{\"text\": extracted_text}])\n",
    "model = RagSequenceForGeneration.from_pretrained(\"facebook/rag-token-nq\", retriever=retriever)\n",
    "\n",
    "# Ask questions about the extracted text\n",
    "question = \"What is the prescription medication name?\"\n",
    "inputs = tokenizer(question, return_tensors=\"pt\")\n",
    "with torch.no_grad():\n",
    "    generated = model.generate(**inputs)\n",
    "    answer = tokenizer.batch_decode(generated, skip_special_tokens=True)\n",
    "\n",
    "print(\"Answer:\", answer[0])\n"
   ]
  }
 ],
 "metadata": {
  "kernelspec": {
   "display_name": "Python 3",
   "language": "python",
   "name": "python3"
  },
  "language_info": {
   "name": "python",
   "version": "3.9.6"
  }
 },
 "nbformat": 4,
 "nbformat_minor": 2
}
