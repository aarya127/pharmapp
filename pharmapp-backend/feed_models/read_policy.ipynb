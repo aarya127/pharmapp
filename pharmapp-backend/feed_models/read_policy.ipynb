{
 "cells": [
  {
   "cell_type": "code",
   "execution_count": 3,
   "metadata": {},
   "outputs": [
    {
     "name": "stdout",
     "output_type": "stream",
     "text": [
      "Requirement already satisfied: fitz in /Users/aaryas127/Documents/GitHub/pharmapp/.conda/lib/python3.11/site-packages (0.0.1.dev2)\n",
      "Requirement already satisfied: pdfplumber in /Users/aaryas127/Documents/GitHub/pharmapp/.conda/lib/python3.11/site-packages (0.11.4)\n",
      "Requirement already satisfied: configobj in /Users/aaryas127/Documents/GitHub/pharmapp/.conda/lib/python3.11/site-packages (from fitz) (5.0.9)\n",
      "Requirement already satisfied: configparser in /Users/aaryas127/Documents/GitHub/pharmapp/.conda/lib/python3.11/site-packages (from fitz) (7.1.0)\n",
      "Requirement already satisfied: httplib2 in /Users/aaryas127/Documents/GitHub/pharmapp/.conda/lib/python3.11/site-packages (from fitz) (0.22.0)\n",
      "Requirement already satisfied: nibabel in /Users/aaryas127/Documents/GitHub/pharmapp/.conda/lib/python3.11/site-packages (from fitz) (5.3.2)\n",
      "Requirement already satisfied: nipype in /Users/aaryas127/Documents/GitHub/pharmapp/.conda/lib/python3.11/site-packages (from fitz) (1.9.0)\n",
      "Requirement already satisfied: numpy in /Users/aaryas127/Documents/GitHub/pharmapp/.conda/lib/python3.11/site-packages (from fitz) (1.23.5)\n",
      "Requirement already satisfied: pandas in /Users/aaryas127/Documents/GitHub/pharmapp/.conda/lib/python3.11/site-packages (from fitz) (2.2.2)\n",
      "Requirement already satisfied: pyxnat in /Users/aaryas127/Documents/GitHub/pharmapp/.conda/lib/python3.11/site-packages (from fitz) (1.6.2)\n",
      "Requirement already satisfied: scipy in /Users/aaryas127/Documents/GitHub/pharmapp/.conda/lib/python3.11/site-packages (from fitz) (1.14.1)\n",
      "Requirement already satisfied: pdfminer.six==20231228 in /Users/aaryas127/Documents/GitHub/pharmapp/.conda/lib/python3.11/site-packages (from pdfplumber) (20231228)\n",
      "Requirement already satisfied: Pillow>=9.1 in /Users/aaryas127/Documents/GitHub/pharmapp/.conda/lib/python3.11/site-packages (from pdfplumber) (10.4.0)\n",
      "Requirement already satisfied: pypdfium2>=4.18.0 in /Users/aaryas127/Documents/GitHub/pharmapp/.conda/lib/python3.11/site-packages (from pdfplumber) (4.30.0)\n",
      "Requirement already satisfied: charset-normalizer>=2.0.0 in /Users/aaryas127/Documents/GitHub/pharmapp/.conda/lib/python3.11/site-packages (from pdfminer.six==20231228->pdfplumber) (3.3.2)\n",
      "Requirement already satisfied: cryptography>=36.0.0 in /Users/aaryas127/Documents/GitHub/pharmapp/.conda/lib/python3.11/site-packages (from pdfminer.six==20231228->pdfplumber) (43.0.3)\n",
      "Requirement already satisfied: pyparsing!=3.0.0,!=3.0.1,!=3.0.2,!=3.0.3,<4,>=2.4.2 in /Users/aaryas127/Documents/GitHub/pharmapp/.conda/lib/python3.11/site-packages (from httplib2->fitz) (3.2.0)\n",
      "Requirement already satisfied: importlib-resources>=5.12 in /Users/aaryas127/Documents/GitHub/pharmapp/.conda/lib/python3.11/site-packages (from nibabel->fitz) (6.4.5)\n",
      "Requirement already satisfied: packaging>=20 in /Users/aaryas127/Documents/GitHub/pharmapp/.conda/lib/python3.11/site-packages (from nibabel->fitz) (24.1)\n",
      "Requirement already satisfied: typing-extensions>=4.6 in /Users/aaryas127/Documents/GitHub/pharmapp/.conda/lib/python3.11/site-packages (from nibabel->fitz) (4.11.0)\n",
      "Requirement already satisfied: click>=6.6.0 in /Users/aaryas127/Documents/GitHub/pharmapp/.conda/lib/python3.11/site-packages (from nipype->fitz) (8.1.7)\n",
      "Requirement already satisfied: networkx>=2.0 in /Users/aaryas127/Documents/GitHub/pharmapp/.conda/lib/python3.11/site-packages (from nipype->fitz) (3.3)\n",
      "Requirement already satisfied: prov>=1.5.2 in /Users/aaryas127/Documents/GitHub/pharmapp/.conda/lib/python3.11/site-packages (from nipype->fitz) (2.0.1)\n",
      "Requirement already satisfied: pydot>=1.2.3 in /Users/aaryas127/Documents/GitHub/pharmapp/.conda/lib/python3.11/site-packages (from nipype->fitz) (3.0.2)\n",
      "Requirement already satisfied: python-dateutil>=2.2 in /Users/aaryas127/Documents/GitHub/pharmapp/.conda/lib/python3.11/site-packages (from nipype->fitz) (2.9.0.post0)\n",
      "Requirement already satisfied: rdflib>=5.0.0 in /Users/aaryas127/Documents/GitHub/pharmapp/.conda/lib/python3.11/site-packages (from nipype->fitz) (6.3.2)\n",
      "Requirement already satisfied: simplejson>=3.8.0 in /Users/aaryas127/Documents/GitHub/pharmapp/.conda/lib/python3.11/site-packages (from nipype->fitz) (3.19.3)\n",
      "Requirement already satisfied: traits!=5.0,>=4.6 in /Users/aaryas127/Documents/GitHub/pharmapp/.conda/lib/python3.11/site-packages (from nipype->fitz) (6.4.3)\n",
      "Requirement already satisfied: filelock>=3.0.0 in /Users/aaryas127/Documents/GitHub/pharmapp/.conda/lib/python3.11/site-packages (from nipype->fitz) (3.13.1)\n",
      "Requirement already satisfied: etelemetry>=0.2.0 in /Users/aaryas127/Documents/GitHub/pharmapp/.conda/lib/python3.11/site-packages (from nipype->fitz) (0.3.1)\n",
      "Requirement already satisfied: looseversion!=1.2 in /Users/aaryas127/Documents/GitHub/pharmapp/.conda/lib/python3.11/site-packages (from nipype->fitz) (1.3.0)\n",
      "Requirement already satisfied: puremagic in /Users/aaryas127/Documents/GitHub/pharmapp/.conda/lib/python3.11/site-packages (from nipype->fitz) (1.28)\n",
      "Requirement already satisfied: pytz>=2020.1 in /Users/aaryas127/Documents/GitHub/pharmapp/.conda/lib/python3.11/site-packages (from pandas->fitz) (2024.1)\n",
      "Requirement already satisfied: tzdata>=2022.7 in /Users/aaryas127/Documents/GitHub/pharmapp/.conda/lib/python3.11/site-packages (from pandas->fitz) (2023.3)\n",
      "Requirement already satisfied: lxml>=4.3 in /Users/aaryas127/Documents/GitHub/pharmapp/.conda/lib/python3.11/site-packages (from pyxnat->fitz) (5.3.0)\n",
      "Requirement already satisfied: requests>=2.20 in /Users/aaryas127/Documents/GitHub/pharmapp/.conda/lib/python3.11/site-packages (from pyxnat->fitz) (2.32.3)\n",
      "Requirement already satisfied: pathlib>=1.0 in /Users/aaryas127/Documents/GitHub/pharmapp/.conda/lib/python3.11/site-packages (from pyxnat->fitz) (1.0.1)\n",
      "Requirement already satisfied: cffi>=1.12 in /Users/aaryas127/.local/lib/python3.11/site-packages (from cryptography>=36.0.0->pdfminer.six==20231228->pdfplumber) (1.17.1)\n",
      "Requirement already satisfied: ci-info>=0.2 in /Users/aaryas127/Documents/GitHub/pharmapp/.conda/lib/python3.11/site-packages (from etelemetry>=0.2.0->nipype->fitz) (0.3.0)\n",
      "Requirement already satisfied: six>=1.5 in /Users/aaryas127/Documents/GitHub/pharmapp/.conda/lib/python3.11/site-packages (from python-dateutil>=2.2->nipype->fitz) (1.16.0)\n",
      "Requirement already satisfied: isodate<0.7.0,>=0.6.0 in /Users/aaryas127/Documents/GitHub/pharmapp/.conda/lib/python3.11/site-packages (from rdflib>=5.0.0->nipype->fitz) (0.6.1)\n",
      "Requirement already satisfied: idna<4,>=2.5 in /Users/aaryas127/Documents/GitHub/pharmapp/.conda/lib/python3.11/site-packages (from requests>=2.20->pyxnat->fitz) (3.7)\n",
      "Requirement already satisfied: urllib3<3,>=1.21.1 in /Users/aaryas127/Documents/GitHub/pharmapp/.conda/lib/python3.11/site-packages (from requests>=2.20->pyxnat->fitz) (2.2.3)\n",
      "Requirement already satisfied: certifi>=2017.4.17 in /Users/aaryas127/Documents/GitHub/pharmapp/.conda/lib/python3.11/site-packages (from requests>=2.20->pyxnat->fitz) (2024.8.30)\n",
      "Requirement already satisfied: pycparser in /Users/aaryas127/.local/lib/python3.11/site-packages (from cffi>=1.12->cryptography>=36.0.0->pdfminer.six==20231228->pdfplumber) (2.22)\n",
      "Note: you may need to restart the kernel to use updated packages.\n"
     ]
    }
   ],
   "source": [
    "pip install fitz pdfplumber"
   ]
  },
  {
   "cell_type": "code",
   "execution_count": 4,
   "metadata": {},
   "outputs": [
    {
     "name": "stdout",
     "output_type": "stream",
     "text": [
      "Collecting PyMuPDF\n",
      "  Downloading PyMuPDF-1.24.13-cp39-abi3-macosx_11_0_arm64.whl.metadata (3.4 kB)\n",
      "Downloading PyMuPDF-1.24.13-cp39-abi3-macosx_11_0_arm64.whl (18.4 MB)\n",
      "\u001b[2K   \u001b[90m━━━━━━━━━━━━━━━━━━━━━━━━━━━━━━━━━━━━━━━━\u001b[0m \u001b[32m18.4/18.4 MB\u001b[0m \u001b[31m4.3 MB/s\u001b[0m eta \u001b[36m0:00:00\u001b[0m00:01\u001b[0m00:01\u001b[0m\n",
      "\u001b[?25hInstalling collected packages: PyMuPDF\n",
      "Successfully installed PyMuPDF-1.24.13\n",
      "Note: you may need to restart the kernel to use updated packages.\n"
     ]
    }
   ],
   "source": [
    "pip install PyMuPDF"
   ]
  },
  {
   "cell_type": "code",
   "execution_count": 5,
   "metadata": {},
   "outputs": [],
   "source": [
    "import fitz  # PyMuPDF\n",
    "\n",
    "def extract_text_from_pdf(pdf_path):\n",
    "    doc = fitz.open(pdf_path)\n",
    "    text = \"\"\n",
    "    for page_num in range(len(doc)):\n",
    "        page = doc.load_page(page_num)\n",
    "        text += page.get_text()\n",
    "    return text\n",
    "\n",
    "pdf_path = '/Users/aaryas127/Documents/GitHub/pharmapp/pharmapp-backend/uploads2/ex_policy.pdf'\n",
    "pdf_text = extract_text_from_pdf(pdf_path)\n"
   ]
  },
  {
   "cell_type": "code",
   "execution_count": null,
   "metadata": {},
   "outputs": [
    {
     "name": "stderr",
     "output_type": "stream",
     "text": [
      "/Users/aaryas127/Documents/GitHub/pharmapp/.conda/lib/python3.11/site-packages/transformers/models/bart/configuration_bart.py:176: UserWarning: Please make sure the config includes `forced_bos_token_id=0` in future versions. The config can simply be saved and uploaded again to be fixed.\n",
      "  warnings.warn(\n"
     ]
    },
    {
     "data": {
      "application/vnd.jupyter.widget-view+json": {
       "model_id": "a9fd764775af49209db34f698b9ffa4a",
       "version_major": 2,
       "version_minor": 0
      },
      "text/plain": [
       "pytorch_model.bin:   0%|          | 0.00/2.06G [00:00<?, ?B/s]"
      ]
     },
     "metadata": {},
     "output_type": "display_data"
    }
   ],
   "source": [
    "from transformers import RagTokenizer, RagTokenForGeneration\n",
    "\n",
    "# Load pre-trained RAG model and tokenizer\n",
    "model = RagTokenForGeneration.from_pretrained(\"facebook/rag-token-nq\")\n",
    "tokenizer = RagTokenizer.from_pretrained(\"facebook/rag-token-nq\")\n",
    "\n",
    "# Tokenize the input text (from the PDF)\n",
    "inputs = tokenizer(pdf_text, return_tensors=\"pt\", max_length=512, truncation=True)\n",
    "\n",
    "# Generate a response (this can be fine-tuned based on your use case)\n",
    "outputs = model.generate(input_ids=inputs[\"input_ids\"])\n",
    "generated_text = tokenizer.decode(outputs[0], skip_special_tokens=True)\n",
    "\n",
    "print(generated_text)\n"
   ]
  }
 ],
 "metadata": {
  "kernelspec": {
   "display_name": "Python 3",
   "language": "python",
   "name": "python3"
  },
  "language_info": {
   "codemirror_mode": {
    "name": "ipython",
    "version": 3
   },
   "file_extension": ".py",
   "mimetype": "text/x-python",
   "name": "python",
   "nbconvert_exporter": "python",
   "pygments_lexer": "ipython3",
   "version": "3.11.10"
  }
 },
 "nbformat": 4,
 "nbformat_minor": 2
}
