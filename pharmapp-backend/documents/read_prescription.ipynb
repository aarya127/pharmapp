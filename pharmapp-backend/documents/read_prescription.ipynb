{
 "cells": [
  {
   "cell_type": "code",
   "execution_count": 14,
   "metadata": {},
   "outputs": [
    {
     "name": "stdout",
     "output_type": "stream",
     "text": [
      "Extracted Text Starting from 'Dr.':\n",
      " Dr. Germin Attia MD CCFP\n",
      "Terry Fox Medical\n",
      "\n",
      "5380 Terry Fox Way #10\n",
      "Mississauga Ontario L5V OAS\n",
      "Pract. No.:139270\n",
      "\n",
      "Tel: 905-858-3030\n",
      "Fax: 905-858-3031\n",
      "\n",
      "Written Date: November 5, 2024\n",
      "AARYA G SHAH DOB:Jan 27, 2003\n",
      "44 BRETON AVE\n",
      "\n",
      "MISSISSAUGA, ON L4Z4K2\n",
      "905-281-2404\n",
      "\n",
      "Health Ins.#4741252474\n",
      "\n",
      "VENTOLIN HFA 100@G\n",
      "1-2 puffs Q6 Hrs PRN\n",
      "Qty:1 Repeats:0\n",
      "\n",
      "Ce ee enn celia\n",
      "\n",
      "—\n",
      "\n",
      "Signature:\n",
      "\n",
      "Requesting: Dr. Germin Attia MD CCFP (139270)\n",
      "MRP: (81264)\n",
      "\n",
      "Created by: OSCAR The open-source EMR www.oscarcanada.org\n",
      "\n"
     ]
    }
   ],
   "source": [
    "from PIL import Image, ImageOps\n",
    "import pytesseract\n",
    "\n",
    "# Open the image and apply EXIF orientation if necessary\n",
    "image = Image.open(\"/Users/aaryas127/Documents/GitHub/pharmapp/pharmapp-backend/uploads/IMG_8512.jpeg\")\n",
    "image = ImageOps.exif_transpose(image)\n",
    "\n",
    "# Extract all text from the image\n",
    "full_text = pytesseract.image_to_string(image)\n",
    "\n",
    "# Find the position of \"Dr.\" in the text\n",
    "start_index = full_text.find(\"Dr.\")\n",
    "\n",
    "# Check if \"Dr.\" was found, and if so, extract text from that position onward\n",
    "if start_index != -1:\n",
    "    text = full_text[start_index:]\n",
    "    print(\"Extracted Text Starting from 'Dr.':\\n\", text)\n",
    "else:\n",
    "    print(\"The keyword 'Dr.' was not found in the image.\")\n",
    "\n"
   ]
  },
  {
   "cell_type": "code",
   "execution_count": 15,
   "metadata": {},
   "outputs": [
    {
     "name": "stdout",
     "output_type": "stream",
     "text": [
      "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\n",
      "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\n"
     ]
    }
   ],
   "source": [
    "# Reading the entire file content\n",
    "with open(\"/Users/aaryas127/Documents/GitHub/pharmapp/pharmapp-backend/api_key.txt\", 'r') as file:\n",
    "    content = file.read()\n",
    "    print(content)\n",
    "\n",
    "# Reading the file line by line\n",
    "with open(\"/Users/aaryas127/Documents/GitHub/pharmapp/pharmapp-backend/api_key.txt\", 'r') as file:\n",
    "    for line in file:\n",
    "        print(line.strip())\n"
   ]
  },
  {
   "cell_type": "code",
   "execution_count": 16,
   "metadata": {},
   "outputs": [
    {
     "name": "stdout",
     "output_type": "stream",
     "text": [
      "Here are the extracted details formatted into distinct sections:\n",
      "\n",
      "**Doctor's Information**\n",
      "\n",
      "* Name: Dr. Germin Attia MD CCFP\n",
      "* Clinic: Terry Fox Medical\n",
      "* Address: 5380 Terry Fox Way #10, Mississauga, Ontario L5V OAS\n",
      "* Practitioner Number: 139270\n",
      "* Contact Info: Tel: 905-858-3030, Fax: 905-858-3031\n",
      "\n",
      "**Patient Details**\n",
      "\n",
      "* Name: Aaryah G Shah\n",
      "* Date of Birth (DOB): January 27, 2003\n",
      "* Address: 44 Breton Ave, Mississauga, ON L4Z4K2\n",
      "* Contact Info: Tel: 905-281-2404\n",
      "* Health Insurance Number: 4741252474\n",
      "\n",
      "**Prescription**\n",
      "\n",
      "* Medication: Ventolin HFA 100mcg\n",
      "* Dosage Instructions: 1-2 puffs Q6 hours PRN\n",
      "* Quantity: 1\n",
      "* Repeats: 0"
     ]
    }
   ],
   "source": [
    "from openai import OpenAI\n",
    "\n",
    "# Initialize OpenAI client\n",
    "client = OpenAI(\n",
    "  base_url=\"https://integrate.api.nvidia.com/v1\",  # You can change this to OpenAI's URL if needed\n",
    "  api_key=str(content)\n",
    ")\n",
    "\n",
    "# Define the prompt, with the variable 'text' inserted\n",
    "prompt = f\"\"\"\n",
    "Please extract the following details from the medical text and format them into distinct sections:\n",
    "\n",
    "**Doctor's Information**\n",
    "- Name\n",
    "- Clinic\n",
    "- Address\n",
    "- Practitioner Number\n",
    "- Contact Info\n",
    "\n",
    "**Patient Details**\n",
    "- Name\n",
    "- DOB\n",
    "- Address\n",
    "- Contact Info\n",
    "- Health Insurance Number\n",
    "\n",
    "**Prescription**\n",
    "- Medication\n",
    "- Dosage Instructions\n",
    "- Quantity\n",
    "- Repeats\n",
    "\n",
    "Medical Text:\n",
    "\\\"\\\"\\\"{text}\\\"\\\"\\\"\n",
    "\"\"\"\n",
    "\n",
    "# Request completion from OpenAI's model\n",
    "completion = client.chat.completions.create(\n",
    "  model=\"meta/llama-3.2-3b-instruct\",  # You can switch this model to one compatible with OpenAI if needed\n",
    "  messages=[{\"role\": \"user\", \"content\": prompt}],\n",
    "  temperature=0.2,\n",
    "  top_p=0.7,\n",
    "  max_tokens=1024,\n",
    "  stream=True\n",
    ")\n",
    "\n",
    "# Collect and print the response as it's streamed\n",
    "for chunk in completion:\n",
    "    if chunk.choices[0].delta.content is not None:\n",
    "        output = chunk.choices[0].delta.content\n",
    "        print(output, end=\"\")\n"
   ]
  }
 ],
 "metadata": {
  "kernelspec": {
   "display_name": "Python 3",
   "language": "python",
   "name": "python3"
  },
  "language_info": {
   "codemirror_mode": {
    "name": "ipython",
    "version": 3
   },
   "file_extension": ".py",
   "mimetype": "text/x-python",
   "name": "python",
   "nbconvert_exporter": "python",
   "pygments_lexer": "ipython3",
   "version": "3.11.10"
  }
 },
 "nbformat": 4,
 "nbformat_minor": 2
}
