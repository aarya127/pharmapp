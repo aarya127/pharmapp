{
 "cells": [
  {
   "cell_type": "code",
   "execution_count": 21,
   "metadata": {},
   "outputs": [
    {
     "name": "stdout",
     "output_type": "stream",
     "text": [
      "Extracted Text Starting from 'Dr.':\n",
      " Dr. Germin Attia MD CCFP\n",
      "Terry Fox Medical\n",
      "\n",
      "5380 Terry Fox Way #10\n",
      "Mississauga Ontario L5V OAS\n",
      "Pract. No.:139270\n",
      "\n",
      "Tel: 905-858-3030\n",
      "Fax: 905-858-3031\n",
      "\n",
      "Written Date: November 5, 2024\n",
      "AARYA G SHAH DOB:Jan 27, 2003\n",
      "44 BRETON AVE\n",
      "\n",
      "MISSISSAUGA, ON L4Z4K2\n",
      "905-281-2404\n",
      "\n",
      "Health Ins.#4741252474\n",
      "\n",
      "VENTOLIN HFA 100@G\n",
      "1-2 puffs Q6 Hrs PRN\n",
      "Qty:1 Repeats:0\n",
      "\n",
      "Ce ee enn celia\n",
      "\n",
      "—\n",
      "\n",
      "Signature:\n",
      "\n",
      "Requesting: Dr. Germin Attia MD CCFP (139270)\n",
      "MRP: (81264)\n",
      "\n",
      "Created by: OSCAR The open-source EMR www.oscarcanada.org\n",
      "\n"
     ]
    }
   ],
   "source": [
    "from PIL import Image, ImageOps\n",
    "import pytesseract\n",
    "\n",
    "# Open the image and apply EXIF orientation if necessary\n",
    "image = Image.open(\"/Users/aaryas127/Documents/GitHub/pharmapp/pharmapp-backend/uploads/IMG_8512.jpeg\")\n",
    "image = ImageOps.exif_transpose(image)\n",
    "\n",
    "# Extract all text from the image\n",
    "full_text = pytesseract.image_to_string(image)\n",
    "\n",
    "# Find the position of \"Dr.\" in the text\n",
    "start_index = full_text.find(\"Dr.\")\n",
    "\n",
    "# Check if \"Dr.\" was found, and if so, extract text from that position onward\n",
    "if start_index != -1:\n",
    "    text = full_text[start_index:]\n",
    "    print(\"Extracted Text Starting from 'Dr.':\\n\", text)\n",
    "else:\n",
    "    print(\"The keyword 'Dr.' was not found in the image.\")\n",
    "\n"
   ]
  },
  {
   "cell_type": "code",
   "execution_count": 22,
   "metadata": {},
   "outputs": [
    {
     "name": "stdout",
     "output_type": "stream",
     "text": [
      "Requirement already satisfied: transformers in /Users/aaryas127/Documents/GitHub/pharmapp/.conda/lib/python3.11/site-packages (4.45.2)\n",
      "Requirement already satisfied: torch in /Users/aaryas127/Documents/GitHub/pharmapp/.conda/lib/python3.11/site-packages (2.3.0.post101)\n",
      "Requirement already satisfied: filelock in /Users/aaryas127/Documents/GitHub/pharmapp/.conda/lib/python3.11/site-packages (from transformers) (3.13.1)\n",
      "Requirement already satisfied: huggingface-hub<1.0,>=0.23.2 in /Users/aaryas127/Documents/GitHub/pharmapp/.conda/lib/python3.11/site-packages (from transformers) (0.24.6)\n",
      "Requirement already satisfied: numpy>=1.17 in /Users/aaryas127/Documents/GitHub/pharmapp/.conda/lib/python3.11/site-packages (from transformers) (1.26.4)\n",
      "Requirement already satisfied: packaging>=20.0 in /Users/aaryas127/Documents/GitHub/pharmapp/.conda/lib/python3.11/site-packages (from transformers) (24.1)\n",
      "Requirement already satisfied: pyyaml>=5.1 in /Users/aaryas127/Documents/GitHub/pharmapp/.conda/lib/python3.11/site-packages (from transformers) (6.0.2)\n",
      "Requirement already satisfied: regex!=2019.12.17 in /Users/aaryas127/Documents/GitHub/pharmapp/.conda/lib/python3.11/site-packages (from transformers) (2024.9.11)\n",
      "Requirement already satisfied: requests in /Users/aaryas127/Documents/GitHub/pharmapp/.conda/lib/python3.11/site-packages (from transformers) (2.32.3)\n",
      "Requirement already satisfied: tokenizers<0.21,>=0.20 in /Users/aaryas127/Documents/GitHub/pharmapp/.conda/lib/python3.11/site-packages (from transformers) (0.20.1)\n",
      "Requirement already satisfied: safetensors>=0.4.1 in /Users/aaryas127/Documents/GitHub/pharmapp/.conda/lib/python3.11/site-packages (from transformers) (0.4.5)\n",
      "Requirement already satisfied: tqdm>=4.27 in /Users/aaryas127/Documents/GitHub/pharmapp/.conda/lib/python3.11/site-packages (from transformers) (4.66.5)\n",
      "Requirement already satisfied: typing-extensions>=4.8.0 in /Users/aaryas127/Documents/GitHub/pharmapp/.conda/lib/python3.11/site-packages (from torch) (4.11.0)\n",
      "Requirement already satisfied: sympy in /Users/aaryas127/Documents/GitHub/pharmapp/.conda/lib/python3.11/site-packages (from torch) (1.13.2)\n",
      "Requirement already satisfied: networkx in /Users/aaryas127/Documents/GitHub/pharmapp/.conda/lib/python3.11/site-packages (from torch) (3.3)\n",
      "Requirement already satisfied: jinja2 in /Users/aaryas127/Documents/GitHub/pharmapp/.conda/lib/python3.11/site-packages (from torch) (3.1.4)\n",
      "Requirement already satisfied: fsspec in /Users/aaryas127/Documents/GitHub/pharmapp/.conda/lib/python3.11/site-packages (from torch) (2024.6.1)\n",
      "Requirement already satisfied: MarkupSafe>=2.0 in /Users/aaryas127/Documents/GitHub/pharmapp/.conda/lib/python3.11/site-packages (from jinja2->torch) (2.1.3)\n",
      "Requirement already satisfied: charset-normalizer<4,>=2 in /Users/aaryas127/Documents/GitHub/pharmapp/.conda/lib/python3.11/site-packages (from requests->transformers) (3.3.2)\n",
      "Requirement already satisfied: idna<4,>=2.5 in /Users/aaryas127/Documents/GitHub/pharmapp/.conda/lib/python3.11/site-packages (from requests->transformers) (3.7)\n",
      "Requirement already satisfied: urllib3<3,>=1.21.1 in /Users/aaryas127/Documents/GitHub/pharmapp/.conda/lib/python3.11/site-packages (from requests->transformers) (2.2.3)\n",
      "Requirement already satisfied: certifi>=2017.4.17 in /Users/aaryas127/Documents/GitHub/pharmapp/.conda/lib/python3.11/site-packages (from requests->transformers) (2024.8.30)\n",
      "Requirement already satisfied: mpmath<1.4,>=1.1.0 in /Users/aaryas127/Documents/GitHub/pharmapp/.conda/lib/python3.11/site-packages (from sympy->torch) (1.3.0)\n",
      "Note: you may need to restart the kernel to use updated packages.\n"
     ]
    }
   ],
   "source": [
    "pip install transformers torch"
   ]
  },
  {
   "cell_type": "code",
   "execution_count": null,
   "metadata": {},
   "outputs": [
    {
     "data": {
      "application/vnd.jupyter.widget-view+json": {
       "model_id": "799b64a0a7c5465a96c1023037bf9938",
       "version_major": 2,
       "version_minor": 0
      },
      "text/plain": [
       "config.json:   0%|          | 0.00/662 [00:00<?, ?B/s]"
      ]
     },
     "metadata": {},
     "output_type": "display_data"
    },
    {
     "data": {
      "application/vnd.jupyter.widget-view+json": {
       "model_id": "0a1eadbb8fa949a8ac949374767dc135",
       "version_major": 2,
       "version_minor": 0
      },
      "text/plain": [
       "model.safetensors:   0%|          | 0.00/3.13G [00:00<?, ?B/s]"
      ]
     },
     "metadata": {},
     "output_type": "display_data"
    },
    {
     "data": {
      "application/vnd.jupyter.widget-view+json": {
       "model_id": "d335c23a308b4bceb4056f697019b45a",
       "version_major": 2,
       "version_minor": 0
      },
      "text/plain": [
       "generation_config.json:   0%|          | 0.00/147 [00:00<?, ?B/s]"
      ]
     },
     "metadata": {},
     "output_type": "display_data"
    },
    {
     "data": {
      "application/vnd.jupyter.widget-view+json": {
       "model_id": "33825314dc8c4d5c8f2360964d7afb7e",
       "version_major": 2,
       "version_minor": 0
      },
      "text/plain": [
       "tokenizer_config.json:   0%|          | 0.00/2.54k [00:00<?, ?B/s]"
      ]
     },
     "metadata": {},
     "output_type": "display_data"
    },
    {
     "data": {
      "application/vnd.jupyter.widget-view+json": {
       "model_id": "d9ff6804d88b4cf99133923248fbed46",
       "version_major": 2,
       "version_minor": 0
      },
      "text/plain": [
       "spiece.model:   0%|          | 0.00/792k [00:00<?, ?B/s]"
      ]
     },
     "metadata": {},
     "output_type": "display_data"
    },
    {
     "data": {
      "application/vnd.jupyter.widget-view+json": {
       "model_id": "01e2e408108f4604acd9f64ba6ec7017",
       "version_major": 2,
       "version_minor": 0
      },
      "text/plain": [
       "tokenizer.json:   0%|          | 0.00/2.42M [00:00<?, ?B/s]"
      ]
     },
     "metadata": {},
     "output_type": "display_data"
    },
    {
     "data": {
      "application/vnd.jupyter.widget-view+json": {
       "model_id": "1cf3d64f458b48e79265d48eaae05f03",
       "version_major": 2,
       "version_minor": 0
      },
      "text/plain": [
       "special_tokens_map.json:   0%|          | 0.00/2.20k [00:00<?, ?B/s]"
      ]
     },
     "metadata": {},
     "output_type": "display_data"
    },
    {
     "name": "stderr",
     "output_type": "stream",
     "text": [
      "Hardware accelerator e.g. GPU is available in the environment, but no `device` argument is passed to the `Pipeline` object. Model will be on CPU.\n"
     ]
    }
   ],
   "source": [
    "from transformers import pipeline\n",
    "\n",
    "# Load the Flan-T5 model for question-answering tasks\n",
    "flan_pipeline = pipeline(\"text2text-generation\", model=\"google/flan-t5-large\")\n",
    "\n",
    "# Define the prompt for structured information extraction\n",
    "text_input = f\"\"\"\n",
    "Extract and structure the details from the following medical prescription text, including doctor info, patient details, and prescription instructions:\n",
    "\n",
    "\\\"\\\"\\\"{text}\\\"\\\"\\\"\n",
    "\"\"\"\n",
    "\n",
    "# Generate the structured response\n",
    "response = flan_pipeline(text_input, max_length=512, do_sample=False)\n",
    "\n",
    "# Print the structured output\n",
    "print(\"Structured Output:\\n\", response[0]['generated_text'])\n"
   ]
  }
 ],
 "metadata": {
  "kernelspec": {
   "display_name": "Python 3",
   "language": "python",
   "name": "python3"
  },
  "language_info": {
   "codemirror_mode": {
    "name": "ipython",
    "version": 3
   },
   "file_extension": ".py",
   "mimetype": "text/x-python",
   "name": "python",
   "nbconvert_exporter": "python",
   "pygments_lexer": "ipython3",
   "version": "3.11.10"
  }
 },
 "nbformat": 4,
 "nbformat_minor": 2
}
