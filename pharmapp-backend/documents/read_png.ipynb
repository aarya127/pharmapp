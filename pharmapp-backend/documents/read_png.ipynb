{
 "cells": [
  {
   "cell_type": "code",
   "execution_count": null,
   "metadata": {},
   "outputs": [
    {
     "name": "stdout",
     "output_type": "stream",
     "text": [
      "11/5/24, 6:57 PM Print Prey\n",
      "ee Dr. Germin Attia MD CCFP\n",
      "at Terry Fox Medical\n",
      "es 5380 Terry Fox Way #10\n",
      "i Mississauga Ontario L5V OA5\n",
      "fy Pract. No.:139270\n",
      "< Tel: 905-858-3030\n",
      "_ | Fax: 905-858-3031\n",
      "Written Date: November 5, 2024\n",
      "AARYA G SHAH DOB:Jan 27, 2003\n",
      "44 BRETON AVE\n",
      "MISSISSAUGA, ON L4Z4K2\n",
      "905-281-2404\n",
      "Health Ins.#4741252474\n",
      "VENTOLIN HFA 100@G 7 = |\n",
      "1-2 puffs Q6 Hrs PRN\n",
      "Qty:1 Repeats:0\n",
      "| Signature:\n",
      "Requesting: Dr. Germin Attia MD CCFP (139270)\n",
      "MRP: (81264)\n",
      "Created by: OSCAR The open-source EMR www.oscarcanada.org\n",
      "\n"
     ]
    }
   ],
   "source": [
    "from PIL import Image, ImageOps\n",
    "import pytesseract\n",
    "\n",
    "# Open the image file\n",
    "image = Image.open(\"/Users/aaryas127/Documents/GitHub/pharmapp/pharmapp-backend/uploads/IMG_8512.jpeg\")\n",
    "\n",
    "# Apply EXIF orientation to display the image correctly\n",
    "image = ImageOps.exif_transpose(image)\n",
    "\n",
    "# Now use pytesseract\n",
    "text = pytesseract.image_to_string(image, config='--psm 6')\n",
    "print(text)\n"
   ]
  },
  {
   "cell_type": "code",
   "execution_count": null,
   "metadata": {},
   "outputs": [
    {
     "name": "stdout",
     "output_type": "stream",
     "text": [
      "Patient Name: Print Prey\n",
      "Doctor Name: Germin Attia\n",
      "Drug Prescribed: None\n"
     ]
    }
   ],
   "source": [
    "import spacy\n",
    "\n",
    "# Load spaCy's English model\n",
    "nlp = spacy.load(\"en_core_web_sm\")\n",
    "\n",
    "# Process the text\n",
    "doc = nlp(text)\n",
    "\n",
    "# Extract relevant entities\n",
    "patient_name = None\n",
    "doctor_name = None\n",
    "drug_prescribed = None\n",
    "\n",
    "for ent in doc.ents:\n",
    "    if ent.label_ == \"PERSON\" and not patient_name:\n",
    "        patient_name = ent.text\n",
    "    elif ent.label_ == \"PERSON\" and not doctor_name:\n",
    "        doctor_name = ent.texts\n",
    "    elif ent.label_ == \"PRODUCT\":  # or use another label\n",
    "        drug_prescribed = ent.text\n",
    "\n",
    "print(f\"Patient Name: {patient_name}\")\n",
    "print(f\"Doctor Name: {doctor_name}\")\n",
    "print(f\"Drug Prescribed: {drug_prescribed}\")\n"
   ]
  }
 ],
 "metadata": {
  "kernelspec": {
   "display_name": "Python 3",
   "language": "python",
   "name": "python3"
  },
  "language_info": {
   "codemirror_mode": {
    "name": "ipython",
    "version": 3
   },
   "file_extension": ".py",
   "mimetype": "text/x-python",
   "name": "python",
   "nbconvert_exporter": "python",
   "pygments_lexer": "ipython3",
   "version": "3.11.10"
  }
 },
 "nbformat": 4,
 "nbformat_minor": 2
}
