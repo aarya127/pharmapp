{
 "cells": [
  {
   "cell_type": "code",
   "execution_count": 21,
   "metadata": {},
   "outputs": [
    {
     "name": "stdout",
     "output_type": "stream",
     "text": [
      "Extracted Text Starting from 'Dr.':\n",
      " Dr. Germin Attia MD CCFP\n",
      "Terry Fox Medical\n",
      "\n",
      "5380 Terry Fox Way #10\n",
      "Mississauga Ontario L5V OAS\n",
      "Pract. No.:139270\n",
      "\n",
      "Tel: 905-858-3030\n",
      "Fax: 905-858-3031\n",
      "\n",
      "Written Date: November 5, 2024\n",
      "AARYA G SHAH DOB:Jan 27, 2003\n",
      "44 BRETON AVE\n",
      "\n",
      "MISSISSAUGA, ON L4Z4K2\n",
      "905-281-2404\n",
      "\n",
      "Health Ins.#4741252474\n",
      "\n",
      "VENTOLIN HFA 100@G\n",
      "1-2 puffs Q6 Hrs PRN\n",
      "Qty:1 Repeats:0\n",
      "\n",
      "Ce ee enn celia\n",
      "\n",
      "—\n",
      "\n",
      "Signature:\n",
      "\n",
      "Requesting: Dr. Germin Attia MD CCFP (139270)\n",
      "MRP: (81264)\n",
      "\n",
      "Created by: OSCAR The open-source EMR www.oscarcanada.org\n",
      "\n"
     ]
    }
   ],
   "source": [
    "from PIL import Image, ImageOps\n",
    "import pytesseract\n",
    "\n",
    "# Open the image and apply EXIF orientation if necessary\n",
    "image = Image.open(\"/Users/aaryas127/Documents/GitHub/pharmapp/pharmapp-backend/uploads/IMG_8512.jpeg\")\n",
    "image = ImageOps.exif_transpose(image)\n",
    "\n",
    "# Extract all text from the image\n",
    "full_text = pytesseract.image_to_string(image)\n",
    "\n",
    "# Find the position of \"Dr.\" in the text\n",
    "start_index = full_text.find(\"Dr.\")\n",
    "\n",
    "# Check if \"Dr.\" was found, and if so, extract text from that position onward\n",
    "if start_index != -1:\n",
    "    text = full_text[start_index:]\n",
    "    print(\"Extracted Text Starting from 'Dr.':\\n\", text)\n",
    "else:\n",
    "    print(\"The keyword 'Dr.' was not found in the image.\")\n",
    "\n"
   ]
  },
  {
   "cell_type": "code",
   "execution_count": 22,
   "metadata": {},
   "outputs": [
    {
     "name": "stdout",
     "output_type": "stream",
     "text": [
      "Requirement already satisfied: transformers in /Users/aaryas127/Documents/GitHub/pharmapp/.conda/lib/python3.11/site-packages (4.45.2)\n",
      "Requirement already satisfied: torch in /Users/aaryas127/Documents/GitHub/pharmapp/.conda/lib/python3.11/site-packages (2.3.0.post101)\n",
      "Requirement already satisfied: filelock in /Users/aaryas127/Documents/GitHub/pharmapp/.conda/lib/python3.11/site-packages (from transformers) (3.13.1)\n",
      "Requirement already satisfied: huggingface-hub<1.0,>=0.23.2 in /Users/aaryas127/Documents/GitHub/pharmapp/.conda/lib/python3.11/site-packages (from transformers) (0.24.6)\n",
      "Requirement already satisfied: numpy>=1.17 in /Users/aaryas127/Documents/GitHub/pharmapp/.conda/lib/python3.11/site-packages (from transformers) (1.26.4)\n",
      "Requirement already satisfied: packaging>=20.0 in /Users/aaryas127/Documents/GitHub/pharmapp/.conda/lib/python3.11/site-packages (from transformers) (24.1)\n",
      "Requirement already satisfied: pyyaml>=5.1 in /Users/aaryas127/Documents/GitHub/pharmapp/.conda/lib/python3.11/site-packages (from transformers) (6.0.2)\n",
      "Requirement already satisfied: regex!=2019.12.17 in /Users/aaryas127/Documents/GitHub/pharmapp/.conda/lib/python3.11/site-packages (from transformers) (2024.9.11)\n",
      "Requirement already satisfied: requests in /Users/aaryas127/Documents/GitHub/pharmapp/.conda/lib/python3.11/site-packages (from transformers) (2.32.3)\n",
      "Requirement already satisfied: tokenizers<0.21,>=0.20 in /Users/aaryas127/Documents/GitHub/pharmapp/.conda/lib/python3.11/site-packages (from transformers) (0.20.1)\n",
      "Requirement already satisfied: safetensors>=0.4.1 in /Users/aaryas127/Documents/GitHub/pharmapp/.conda/lib/python3.11/site-packages (from transformers) (0.4.5)\n",
      "Requirement already satisfied: tqdm>=4.27 in /Users/aaryas127/Documents/GitHub/pharmapp/.conda/lib/python3.11/site-packages (from transformers) (4.66.5)\n",
      "Requirement already satisfied: typing-extensions>=4.8.0 in /Users/aaryas127/Documents/GitHub/pharmapp/.conda/lib/python3.11/site-packages (from torch) (4.11.0)\n",
      "Requirement already satisfied: sympy in /Users/aaryas127/Documents/GitHub/pharmapp/.conda/lib/python3.11/site-packages (from torch) (1.13.2)\n",
      "Requirement already satisfied: networkx in /Users/aaryas127/Documents/GitHub/pharmapp/.conda/lib/python3.11/site-packages (from torch) (3.3)\n",
      "Requirement already satisfied: jinja2 in /Users/aaryas127/Documents/GitHub/pharmapp/.conda/lib/python3.11/site-packages (from torch) (3.1.4)\n",
      "Requirement already satisfied: fsspec in /Users/aaryas127/Documents/GitHub/pharmapp/.conda/lib/python3.11/site-packages (from torch) (2024.6.1)\n",
      "Requirement already satisfied: MarkupSafe>=2.0 in /Users/aaryas127/Documents/GitHub/pharmapp/.conda/lib/python3.11/site-packages (from jinja2->torch) (2.1.3)\n",
      "Requirement already satisfied: charset-normalizer<4,>=2 in /Users/aaryas127/Documents/GitHub/pharmapp/.conda/lib/python3.11/site-packages (from requests->transformers) (3.3.2)\n",
      "Requirement already satisfied: idna<4,>=2.5 in /Users/aaryas127/Documents/GitHub/pharmapp/.conda/lib/python3.11/site-packages (from requests->transformers) (3.7)\n",
      "Requirement already satisfied: urllib3<3,>=1.21.1 in /Users/aaryas127/Documents/GitHub/pharmapp/.conda/lib/python3.11/site-packages (from requests->transformers) (2.2.3)\n",
      "Requirement already satisfied: certifi>=2017.4.17 in /Users/aaryas127/Documents/GitHub/pharmapp/.conda/lib/python3.11/site-packages (from requests->transformers) (2024.8.30)\n",
      "Requirement already satisfied: mpmath<1.4,>=1.1.0 in /Users/aaryas127/Documents/GitHub/pharmapp/.conda/lib/python3.11/site-packages (from sympy->torch) (1.3.0)\n",
      "Note: you may need to restart the kernel to use updated packages.\n"
     ]
    }
   ],
   "source": [
    "pip install transformers torch"
   ]
  },
  {
   "cell_type": "code",
   "execution_count": 28,
   "metadata": {},
   "outputs": [
    {
     "name": "stdout",
     "output_type": "stream",
     "text": [
      "Requirement already satisfied: transformers in /Users/aaryas127/Documents/GitHub/pharmapp/.conda/lib/python3.11/site-packages (4.45.2)\n",
      "Collecting transformers\n",
      "  Downloading transformers-4.46.2-py3-none-any.whl.metadata (44 kB)\n",
      "Requirement already satisfied: filelock in /Users/aaryas127/Documents/GitHub/pharmapp/.conda/lib/python3.11/site-packages (from transformers) (3.13.1)\n",
      "Requirement already satisfied: huggingface-hub<1.0,>=0.23.2 in /Users/aaryas127/Documents/GitHub/pharmapp/.conda/lib/python3.11/site-packages (from transformers) (0.24.6)\n",
      "Requirement already satisfied: numpy>=1.17 in /Users/aaryas127/Documents/GitHub/pharmapp/.conda/lib/python3.11/site-packages (from transformers) (1.26.4)\n",
      "Requirement already satisfied: packaging>=20.0 in /Users/aaryas127/Documents/GitHub/pharmapp/.conda/lib/python3.11/site-packages (from transformers) (24.1)\n",
      "Requirement already satisfied: pyyaml>=5.1 in /Users/aaryas127/Documents/GitHub/pharmapp/.conda/lib/python3.11/site-packages (from transformers) (6.0.2)\n",
      "Requirement already satisfied: regex!=2019.12.17 in /Users/aaryas127/Documents/GitHub/pharmapp/.conda/lib/python3.11/site-packages (from transformers) (2024.9.11)\n",
      "Requirement already satisfied: requests in /Users/aaryas127/Documents/GitHub/pharmapp/.conda/lib/python3.11/site-packages (from transformers) (2.32.3)\n",
      "Requirement already satisfied: safetensors>=0.4.1 in /Users/aaryas127/Documents/GitHub/pharmapp/.conda/lib/python3.11/site-packages (from transformers) (0.4.5)\n",
      "Requirement already satisfied: tokenizers<0.21,>=0.20 in /Users/aaryas127/Documents/GitHub/pharmapp/.conda/lib/python3.11/site-packages (from transformers) (0.20.1)\n",
      "Requirement already satisfied: tqdm>=4.27 in /Users/aaryas127/Documents/GitHub/pharmapp/.conda/lib/python3.11/site-packages (from transformers) (4.66.5)\n",
      "Requirement already satisfied: fsspec>=2023.5.0 in /Users/aaryas127/Documents/GitHub/pharmapp/.conda/lib/python3.11/site-packages (from huggingface-hub<1.0,>=0.23.2->transformers) (2024.6.1)\n",
      "Requirement already satisfied: typing-extensions>=3.7.4.3 in /Users/aaryas127/Documents/GitHub/pharmapp/.conda/lib/python3.11/site-packages (from huggingface-hub<1.0,>=0.23.2->transformers) (4.11.0)\n",
      "Requirement already satisfied: charset-normalizer<4,>=2 in /Users/aaryas127/Documents/GitHub/pharmapp/.conda/lib/python3.11/site-packages (from requests->transformers) (3.3.2)\n",
      "Requirement already satisfied: idna<4,>=2.5 in /Users/aaryas127/Documents/GitHub/pharmapp/.conda/lib/python3.11/site-packages (from requests->transformers) (3.7)\n",
      "Requirement already satisfied: urllib3<3,>=1.21.1 in /Users/aaryas127/Documents/GitHub/pharmapp/.conda/lib/python3.11/site-packages (from requests->transformers) (2.2.3)\n",
      "Requirement already satisfied: certifi>=2017.4.17 in /Users/aaryas127/Documents/GitHub/pharmapp/.conda/lib/python3.11/site-packages (from requests->transformers) (2024.8.30)\n",
      "Downloading transformers-4.46.2-py3-none-any.whl (10.0 MB)\n",
      "\u001b[2K   \u001b[90m━━━━━━━━━━━━━━━━━━━━━━━━━━━━━━━━━━━━━━━━\u001b[0m \u001b[32m10.0/10.0 MB\u001b[0m \u001b[31m23.9 MB/s\u001b[0m eta \u001b[36m0:00:00\u001b[0m \u001b[36m0:00:01\u001b[0m\n",
      "\u001b[?25hInstalling collected packages: transformers\n",
      "  Attempting uninstall: transformers\n",
      "    Found existing installation: transformers 4.45.2\n",
      "    Uninstalling transformers-4.45.2:\n",
      "      Successfully uninstalled transformers-4.45.2\n",
      "Successfully installed transformers-4.46.2\n",
      "Note: you may need to restart the kernel to use updated packages.\n"
     ]
    }
   ],
   "source": [
    "pip install --upgrade transformers\n"
   ]
  },
  {
   "cell_type": "code",
   "execution_count": 30,
   "metadata": {},
   "outputs": [],
   "source": [
    "flan_pipeline = pipeline(\"text2text-generation\", model=\"google/flan-t5-large\", device=-1)"
   ]
  },
  {
   "cell_type": "code",
   "execution_count": 32,
   "metadata": {},
   "outputs": [
    {
     "name": "stdout",
     "output_type": "stream",
     "text": [
      "Structured Output:\n",
      " \"\"\"Dr. Germin Attia MD CCFP Terry Fox Medical 5380 Terry Fox Way #10 Mississauga Ontario L5V OAS Pract. No.:139270 Tel: 905-858-3030 Fax: 905-858-3031 Written Date: November 5, 2024 AARYA G SHAH DOB:Jan 27, 2003 44 BRETON AVE MISSISSAUGA, ON L4Z4K2 905-281-2404 Health Ins.#4741252474 VENTOLIN HFA 100@G 1-2 puffs Q6 Hrs PRN Qty:1 Repeats:0 Ce ee enn celia — Signature: Requesting: Dr. Germin Attia MD CCFP (139270) MRP: (81264) Created by: OSCAR The open-source EMR www.oscarcanada.org \"\"\"\n"
     ]
    }
   ],
   "source": [
    "from transformers import pipeline\n",
    "\n",
    "# Initialize the pipeline without device first to troubleshoot\n",
    "flan_pipeline = pipeline(\"text2text-generation\", model=\"google/flan-t5-large\", device=-1)\n",
    "\n",
    "# Define a structured prompt for clear formatting\n",
    "text_input = f\"\"\"\n",
    "Please extract and format the following medical prescription details into distinct sections: \n",
    "- **Doctor's Information** (Name, Clinic, Address, Practitioner Number, Contact Info)\n",
    "- **Patient Details** (Name, DOB, Address, Contact Info, Health Insurance Number)\n",
    "- **Prescription** (Medication, Dosage Instructions, Quantity, Repeats)\n",
    "- **Document Metadata** (Written Date, Created By).\n",
    "\n",
    "Medical Text:\n",
    "\\\"\\\"\\\"{text}\\\"\\\"\\\"\n",
    "\n",
    "Return output as structured sections.\n",
    "\"\"\"\n",
    "\n",
    "# Generate the structured response as a list input\n",
    "response = flan_pipeline([text_input], max_length=512, do_sample=False)\n",
    "\n",
    "# Print the structured output\n",
    "print(\"Structured Output:\\n\", response[0]['generated_text'])\n"
   ]
  }
 ],
 "metadata": {
  "kernelspec": {
   "display_name": "Python 3",
   "language": "python",
   "name": "python3"
  },
  "language_info": {
   "codemirror_mode": {
    "name": "ipython",
    "version": 3
   },
   "file_extension": ".py",
   "mimetype": "text/x-python",
   "name": "python",
   "nbconvert_exporter": "python",
   "pygments_lexer": "ipython3",
   "version": "3.11.10"
  }
 },
 "nbformat": 4,
 "nbformat_minor": 2
}
